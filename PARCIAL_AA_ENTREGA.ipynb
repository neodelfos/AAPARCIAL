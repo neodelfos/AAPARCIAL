{
  "nbformat": 4,
  "nbformat_minor": 0,
  "metadata": {
    "colab": {
      "provenance": []
    },
    "kernelspec": {
      "name": "python3",
      "display_name": "Python 3"
    },
    "language_info": {
      "name": "python"
    }
  },
  "cells": [
    {
      "cell_type": "markdown",
      "source": [
        "# Determinación de voto Migratorio\n",
        "\n",
        "El presente trabajo de Aprendizaje Automático pretende formular un modelo que permita determinar la presencia del voto migratorio a instancias de un set de datos generado por una encuesta de investigación electoral.\n",
        "\n",
        "La importancia de la formulación de un modelo que logre clasificar adecuadamente este fenómeno de comportamiento electoral es importante ya que genera un aporte significativo al analisis competitivo electoral."
      ],
      "metadata": {
        "id": "kCEoCsSBXv9y"
      }
    },
    {
      "cell_type": "code",
      "execution_count": 1,
      "metadata": {
        "id": "X3DkkO7XY1SN"
      },
      "outputs": [],
      "source": [
        "#1 REGRESIÓN LOGÍSTICA\n",
        "#Importamos todas las librerias que utilizaremos en el desarrollo del modelo\n",
        "import pandas as pd\n",
        "import numpy as np\n",
        "from sklearn import linear_model\n",
        "from sklearn import model_selection\n",
        "from sklearn.metrics import classification_report\n",
        "from sklearn.metrics import confusion_matrix\n",
        "from sklearn.metrics import accuracy_score\n",
        "import matplotlib.pyplot as plt\n",
        "import seaborn as sb\n",
        "from sklearn import datasets\n",
        "from sklearn.linear_model import LinearRegression\n",
        "from sklearn.model_selection import train_test_split\n",
        "%matplotlib inline"
      ]
    },
    {
      "cell_type": "code",
      "source": [
        "#2 Cargamos los datos de entrada del archivo EXCEL contenido en nuestro Drive\n",
        "dataframe = pd.read_excel(\"/content/drive/MyDrive/APRENDIZAJE AUTOMATICO/BASE DATOS PARCIAL.xlsx\")\n",
        "dataframe.head()"
      ],
      "metadata": {
        "colab": {
          "base_uri": "https://localhost:8080/",
          "height": 206
        },
        "id": "z7dg3Vh0b3dV",
        "outputId": "1ceeac7e-ff87-4776-aa61-6118fccfefc5"
      },
      "execution_count": 2,
      "outputs": [
        {
          "output_type": "execute_result",
          "data": {
            "text/plain": [
              "   GOB1  GOB2  GOBNO\n",
              "0     1     6      3\n",
              "1     1     2      3\n",
              "2     1     5      3\n",
              "3     1     2      5\n",
              "4     7     7      7"
            ],
            "text/html": [
              "\n",
              "  <div id=\"df-8e858895-8c70-44a4-934a-7ebc992c0bcd\" class=\"colab-df-container\">\n",
              "    <div>\n",
              "<style scoped>\n",
              "    .dataframe tbody tr th:only-of-type {\n",
              "        vertical-align: middle;\n",
              "    }\n",
              "\n",
              "    .dataframe tbody tr th {\n",
              "        vertical-align: top;\n",
              "    }\n",
              "\n",
              "    .dataframe thead th {\n",
              "        text-align: right;\n",
              "    }\n",
              "</style>\n",
              "<table border=\"1\" class=\"dataframe\">\n",
              "  <thead>\n",
              "    <tr style=\"text-align: right;\">\n",
              "      <th></th>\n",
              "      <th>GOB1</th>\n",
              "      <th>GOB2</th>\n",
              "      <th>GOBNO</th>\n",
              "    </tr>\n",
              "  </thead>\n",
              "  <tbody>\n",
              "    <tr>\n",
              "      <th>0</th>\n",
              "      <td>1</td>\n",
              "      <td>6</td>\n",
              "      <td>3</td>\n",
              "    </tr>\n",
              "    <tr>\n",
              "      <th>1</th>\n",
              "      <td>1</td>\n",
              "      <td>2</td>\n",
              "      <td>3</td>\n",
              "    </tr>\n",
              "    <tr>\n",
              "      <th>2</th>\n",
              "      <td>1</td>\n",
              "      <td>5</td>\n",
              "      <td>3</td>\n",
              "    </tr>\n",
              "    <tr>\n",
              "      <th>3</th>\n",
              "      <td>1</td>\n",
              "      <td>2</td>\n",
              "      <td>5</td>\n",
              "    </tr>\n",
              "    <tr>\n",
              "      <th>4</th>\n",
              "      <td>7</td>\n",
              "      <td>7</td>\n",
              "      <td>7</td>\n",
              "    </tr>\n",
              "  </tbody>\n",
              "</table>\n",
              "</div>\n",
              "    <div class=\"colab-df-buttons\">\n",
              "\n",
              "  <div class=\"colab-df-container\">\n",
              "    <button class=\"colab-df-convert\" onclick=\"convertToInteractive('df-8e858895-8c70-44a4-934a-7ebc992c0bcd')\"\n",
              "            title=\"Convert this dataframe to an interactive table.\"\n",
              "            style=\"display:none;\">\n",
              "\n",
              "  <svg xmlns=\"http://www.w3.org/2000/svg\" height=\"24px\" viewBox=\"0 -960 960 960\">\n",
              "    <path d=\"M120-120v-720h720v720H120Zm60-500h600v-160H180v160Zm220 220h160v-160H400v160Zm0 220h160v-160H400v160ZM180-400h160v-160H180v160Zm440 0h160v-160H620v160ZM180-180h160v-160H180v160Zm440 0h160v-160H620v160Z\"/>\n",
              "  </svg>\n",
              "    </button>\n",
              "\n",
              "  <style>\n",
              "    .colab-df-container {\n",
              "      display:flex;\n",
              "      gap: 12px;\n",
              "    }\n",
              "\n",
              "    .colab-df-convert {\n",
              "      background-color: #E8F0FE;\n",
              "      border: none;\n",
              "      border-radius: 50%;\n",
              "      cursor: pointer;\n",
              "      display: none;\n",
              "      fill: #1967D2;\n",
              "      height: 32px;\n",
              "      padding: 0 0 0 0;\n",
              "      width: 32px;\n",
              "    }\n",
              "\n",
              "    .colab-df-convert:hover {\n",
              "      background-color: #E2EBFA;\n",
              "      box-shadow: 0px 1px 2px rgba(60, 64, 67, 0.3), 0px 1px 3px 1px rgba(60, 64, 67, 0.15);\n",
              "      fill: #174EA6;\n",
              "    }\n",
              "\n",
              "    .colab-df-buttons div {\n",
              "      margin-bottom: 4px;\n",
              "    }\n",
              "\n",
              "    [theme=dark] .colab-df-convert {\n",
              "      background-color: #3B4455;\n",
              "      fill: #D2E3FC;\n",
              "    }\n",
              "\n",
              "    [theme=dark] .colab-df-convert:hover {\n",
              "      background-color: #434B5C;\n",
              "      box-shadow: 0px 1px 3px 1px rgba(0, 0, 0, 0.15);\n",
              "      filter: drop-shadow(0px 1px 2px rgba(0, 0, 0, 0.3));\n",
              "      fill: #FFFFFF;\n",
              "    }\n",
              "  </style>\n",
              "\n",
              "    <script>\n",
              "      const buttonEl =\n",
              "        document.querySelector('#df-8e858895-8c70-44a4-934a-7ebc992c0bcd button.colab-df-convert');\n",
              "      buttonEl.style.display =\n",
              "        google.colab.kernel.accessAllowed ? 'block' : 'none';\n",
              "\n",
              "      async function convertToInteractive(key) {\n",
              "        const element = document.querySelector('#df-8e858895-8c70-44a4-934a-7ebc992c0bcd');\n",
              "        const dataTable =\n",
              "          await google.colab.kernel.invokeFunction('convertToInteractive',\n",
              "                                                    [key], {});\n",
              "        if (!dataTable) return;\n",
              "\n",
              "        const docLinkHtml = 'Like what you see? Visit the ' +\n",
              "          '<a target=\"_blank\" href=https://colab.research.google.com/notebooks/data_table.ipynb>data table notebook</a>'\n",
              "          + ' to learn more about interactive tables.';\n",
              "        element.innerHTML = '';\n",
              "        dataTable['output_type'] = 'display_data';\n",
              "        await google.colab.output.renderOutput(dataTable, element);\n",
              "        const docLink = document.createElement('div');\n",
              "        docLink.innerHTML = docLinkHtml;\n",
              "        element.appendChild(docLink);\n",
              "      }\n",
              "    </script>\n",
              "  </div>\n",
              "\n",
              "\n",
              "<div id=\"df-6ecad19c-40bf-4d66-81c2-3a7a5042a9bc\">\n",
              "  <button class=\"colab-df-quickchart\" onclick=\"quickchart('df-6ecad19c-40bf-4d66-81c2-3a7a5042a9bc')\"\n",
              "            title=\"Suggest charts.\"\n",
              "            style=\"display:none;\">\n",
              "\n",
              "<svg xmlns=\"http://www.w3.org/2000/svg\" height=\"24px\"viewBox=\"0 0 24 24\"\n",
              "     width=\"24px\">\n",
              "    <g>\n",
              "        <path d=\"M19 3H5c-1.1 0-2 .9-2 2v14c0 1.1.9 2 2 2h14c1.1 0 2-.9 2-2V5c0-1.1-.9-2-2-2zM9 17H7v-7h2v7zm4 0h-2V7h2v10zm4 0h-2v-4h2v4z\"/>\n",
              "    </g>\n",
              "</svg>\n",
              "  </button>\n",
              "\n",
              "<style>\n",
              "  .colab-df-quickchart {\n",
              "      --bg-color: #E8F0FE;\n",
              "      --fill-color: #1967D2;\n",
              "      --hover-bg-color: #E2EBFA;\n",
              "      --hover-fill-color: #174EA6;\n",
              "      --disabled-fill-color: #AAA;\n",
              "      --disabled-bg-color: #DDD;\n",
              "  }\n",
              "\n",
              "  [theme=dark] .colab-df-quickchart {\n",
              "      --bg-color: #3B4455;\n",
              "      --fill-color: #D2E3FC;\n",
              "      --hover-bg-color: #434B5C;\n",
              "      --hover-fill-color: #FFFFFF;\n",
              "      --disabled-bg-color: #3B4455;\n",
              "      --disabled-fill-color: #666;\n",
              "  }\n",
              "\n",
              "  .colab-df-quickchart {\n",
              "    background-color: var(--bg-color);\n",
              "    border: none;\n",
              "    border-radius: 50%;\n",
              "    cursor: pointer;\n",
              "    display: none;\n",
              "    fill: var(--fill-color);\n",
              "    height: 32px;\n",
              "    padding: 0;\n",
              "    width: 32px;\n",
              "  }\n",
              "\n",
              "  .colab-df-quickchart:hover {\n",
              "    background-color: var(--hover-bg-color);\n",
              "    box-shadow: 0 1px 2px rgba(60, 64, 67, 0.3), 0 1px 3px 1px rgba(60, 64, 67, 0.15);\n",
              "    fill: var(--button-hover-fill-color);\n",
              "  }\n",
              "\n",
              "  .colab-df-quickchart-complete:disabled,\n",
              "  .colab-df-quickchart-complete:disabled:hover {\n",
              "    background-color: var(--disabled-bg-color);\n",
              "    fill: var(--disabled-fill-color);\n",
              "    box-shadow: none;\n",
              "  }\n",
              "\n",
              "  .colab-df-spinner {\n",
              "    border: 2px solid var(--fill-color);\n",
              "    border-color: transparent;\n",
              "    border-bottom-color: var(--fill-color);\n",
              "    animation:\n",
              "      spin 1s steps(1) infinite;\n",
              "  }\n",
              "\n",
              "  @keyframes spin {\n",
              "    0% {\n",
              "      border-color: transparent;\n",
              "      border-bottom-color: var(--fill-color);\n",
              "      border-left-color: var(--fill-color);\n",
              "    }\n",
              "    20% {\n",
              "      border-color: transparent;\n",
              "      border-left-color: var(--fill-color);\n",
              "      border-top-color: var(--fill-color);\n",
              "    }\n",
              "    30% {\n",
              "      border-color: transparent;\n",
              "      border-left-color: var(--fill-color);\n",
              "      border-top-color: var(--fill-color);\n",
              "      border-right-color: var(--fill-color);\n",
              "    }\n",
              "    40% {\n",
              "      border-color: transparent;\n",
              "      border-right-color: var(--fill-color);\n",
              "      border-top-color: var(--fill-color);\n",
              "    }\n",
              "    60% {\n",
              "      border-color: transparent;\n",
              "      border-right-color: var(--fill-color);\n",
              "    }\n",
              "    80% {\n",
              "      border-color: transparent;\n",
              "      border-right-color: var(--fill-color);\n",
              "      border-bottom-color: var(--fill-color);\n",
              "    }\n",
              "    90% {\n",
              "      border-color: transparent;\n",
              "      border-bottom-color: var(--fill-color);\n",
              "    }\n",
              "  }\n",
              "</style>\n",
              "\n",
              "  <script>\n",
              "    async function quickchart(key) {\n",
              "      const quickchartButtonEl =\n",
              "        document.querySelector('#' + key + ' button');\n",
              "      quickchartButtonEl.disabled = true;  // To prevent multiple clicks.\n",
              "      quickchartButtonEl.classList.add('colab-df-spinner');\n",
              "      try {\n",
              "        const charts = await google.colab.kernel.invokeFunction(\n",
              "            'suggestCharts', [key], {});\n",
              "      } catch (error) {\n",
              "        console.error('Error during call to suggestCharts:', error);\n",
              "      }\n",
              "      quickchartButtonEl.classList.remove('colab-df-spinner');\n",
              "      quickchartButtonEl.classList.add('colab-df-quickchart-complete');\n",
              "    }\n",
              "    (() => {\n",
              "      let quickchartButtonEl =\n",
              "        document.querySelector('#df-6ecad19c-40bf-4d66-81c2-3a7a5042a9bc button');\n",
              "      quickchartButtonEl.style.display =\n",
              "        google.colab.kernel.accessAllowed ? 'block' : 'none';\n",
              "    })();\n",
              "  </script>\n",
              "</div>\n",
              "    </div>\n",
              "  </div>\n"
            ]
          },
          "metadata": {},
          "execution_count": 2
        }
      ]
    },
    {
      "cell_type": "markdown",
      "source": [
        "Aqui creamos una cuarta columna llamada MIGRA, bajo condiciones especificas que nos permitiran individualizar un nuevo universo de observacion electoral, que son aquellos electores que muestran actitud de migrar hacia una nueva oferta electoral.  Esto lo conseguimos cuando logramos individualizar aquellos encuestados que en la primera opcion eligen candidatos y en la segunda opcion tambien. cuando presenciamos esto le pedimos al codigo que nos entregue un digito 1 y cuando no es asi, nos entrega un 0.\n"
      ],
      "metadata": {
        "id": "Y9or_KKc1ipy"
      }
    },
    {
      "cell_type": "code",
      "source": [
        "#2.2 Crear una cuarta columna llamada MIGRA que contendrá 1 si en GOB1 y GOB2 se repiten los dígitos del 1 al 5, de lo contrario será 0.\n",
        "def repetir_digitos(row):\n",
        "    if (row['GOB1'] in range(1, 6) and row['GOB2'] in range(1, 6)):\n",
        "        return 1\n",
        "    else:\n",
        "        return 0\n",
        "\n",
        "dataframe['MIGRA'] = dataframe.apply(repetir_digitos, axis=1)"
      ],
      "metadata": {
        "id": "4I0OK-RFS0It"
      },
      "execution_count": 42,
      "outputs": []
    },
    {
      "cell_type": "markdown",
      "source": [
        "Aqui imprimimos el Data Frame para veirficar la creacion de esta cuarta columna de datos"
      ],
      "metadata": {
        "id": "luCXLbGM2ZiN"
      }
    },
    {
      "cell_type": "code",
      "source": [
        "#2.3 verificacion del 2.2\n",
        "dataframe.head()"
      ],
      "metadata": {
        "colab": {
          "base_uri": "https://localhost:8080/",
          "height": 206
        },
        "id": "YX0J_S9MS6ih",
        "outputId": "5c08697d-4cbd-455d-e8a1-482ad3d02a4a"
      },
      "execution_count": 43,
      "outputs": [
        {
          "output_type": "execute_result",
          "data": {
            "text/plain": [
              "   GOB1  GOB2  GOBNO  MIGRA  VotosDuros\n",
              "0     1     6      3      0           1\n",
              "1     1     2      3      1           0\n",
              "2     1     5      3      1           0\n",
              "3     1     2      5      1           0\n",
              "4     7     7      7      0           0"
            ],
            "text/html": [
              "\n",
              "  <div id=\"df-61bc58c0-24c3-481f-8a3b-0d8e9d52c665\" class=\"colab-df-container\">\n",
              "    <div>\n",
              "<style scoped>\n",
              "    .dataframe tbody tr th:only-of-type {\n",
              "        vertical-align: middle;\n",
              "    }\n",
              "\n",
              "    .dataframe tbody tr th {\n",
              "        vertical-align: top;\n",
              "    }\n",
              "\n",
              "    .dataframe thead th {\n",
              "        text-align: right;\n",
              "    }\n",
              "</style>\n",
              "<table border=\"1\" class=\"dataframe\">\n",
              "  <thead>\n",
              "    <tr style=\"text-align: right;\">\n",
              "      <th></th>\n",
              "      <th>GOB1</th>\n",
              "      <th>GOB2</th>\n",
              "      <th>GOBNO</th>\n",
              "      <th>MIGRA</th>\n",
              "      <th>VotosDuros</th>\n",
              "    </tr>\n",
              "  </thead>\n",
              "  <tbody>\n",
              "    <tr>\n",
              "      <th>0</th>\n",
              "      <td>1</td>\n",
              "      <td>6</td>\n",
              "      <td>3</td>\n",
              "      <td>0</td>\n",
              "      <td>1</td>\n",
              "    </tr>\n",
              "    <tr>\n",
              "      <th>1</th>\n",
              "      <td>1</td>\n",
              "      <td>2</td>\n",
              "      <td>3</td>\n",
              "      <td>1</td>\n",
              "      <td>0</td>\n",
              "    </tr>\n",
              "    <tr>\n",
              "      <th>2</th>\n",
              "      <td>1</td>\n",
              "      <td>5</td>\n",
              "      <td>3</td>\n",
              "      <td>1</td>\n",
              "      <td>0</td>\n",
              "    </tr>\n",
              "    <tr>\n",
              "      <th>3</th>\n",
              "      <td>1</td>\n",
              "      <td>2</td>\n",
              "      <td>5</td>\n",
              "      <td>1</td>\n",
              "      <td>0</td>\n",
              "    </tr>\n",
              "    <tr>\n",
              "      <th>4</th>\n",
              "      <td>7</td>\n",
              "      <td>7</td>\n",
              "      <td>7</td>\n",
              "      <td>0</td>\n",
              "      <td>0</td>\n",
              "    </tr>\n",
              "  </tbody>\n",
              "</table>\n",
              "</div>\n",
              "    <div class=\"colab-df-buttons\">\n",
              "\n",
              "  <div class=\"colab-df-container\">\n",
              "    <button class=\"colab-df-convert\" onclick=\"convertToInteractive('df-61bc58c0-24c3-481f-8a3b-0d8e9d52c665')\"\n",
              "            title=\"Convert this dataframe to an interactive table.\"\n",
              "            style=\"display:none;\">\n",
              "\n",
              "  <svg xmlns=\"http://www.w3.org/2000/svg\" height=\"24px\" viewBox=\"0 -960 960 960\">\n",
              "    <path d=\"M120-120v-720h720v720H120Zm60-500h600v-160H180v160Zm220 220h160v-160H400v160Zm0 220h160v-160H400v160ZM180-400h160v-160H180v160Zm440 0h160v-160H620v160ZM180-180h160v-160H180v160Zm440 0h160v-160H620v160Z\"/>\n",
              "  </svg>\n",
              "    </button>\n",
              "\n",
              "  <style>\n",
              "    .colab-df-container {\n",
              "      display:flex;\n",
              "      gap: 12px;\n",
              "    }\n",
              "\n",
              "    .colab-df-convert {\n",
              "      background-color: #E8F0FE;\n",
              "      border: none;\n",
              "      border-radius: 50%;\n",
              "      cursor: pointer;\n",
              "      display: none;\n",
              "      fill: #1967D2;\n",
              "      height: 32px;\n",
              "      padding: 0 0 0 0;\n",
              "      width: 32px;\n",
              "    }\n",
              "\n",
              "    .colab-df-convert:hover {\n",
              "      background-color: #E2EBFA;\n",
              "      box-shadow: 0px 1px 2px rgba(60, 64, 67, 0.3), 0px 1px 3px 1px rgba(60, 64, 67, 0.15);\n",
              "      fill: #174EA6;\n",
              "    }\n",
              "\n",
              "    .colab-df-buttons div {\n",
              "      margin-bottom: 4px;\n",
              "    }\n",
              "\n",
              "    [theme=dark] .colab-df-convert {\n",
              "      background-color: #3B4455;\n",
              "      fill: #D2E3FC;\n",
              "    }\n",
              "\n",
              "    [theme=dark] .colab-df-convert:hover {\n",
              "      background-color: #434B5C;\n",
              "      box-shadow: 0px 1px 3px 1px rgba(0, 0, 0, 0.15);\n",
              "      filter: drop-shadow(0px 1px 2px rgba(0, 0, 0, 0.3));\n",
              "      fill: #FFFFFF;\n",
              "    }\n",
              "  </style>\n",
              "\n",
              "    <script>\n",
              "      const buttonEl =\n",
              "        document.querySelector('#df-61bc58c0-24c3-481f-8a3b-0d8e9d52c665 button.colab-df-convert');\n",
              "      buttonEl.style.display =\n",
              "        google.colab.kernel.accessAllowed ? 'block' : 'none';\n",
              "\n",
              "      async function convertToInteractive(key) {\n",
              "        const element = document.querySelector('#df-61bc58c0-24c3-481f-8a3b-0d8e9d52c665');\n",
              "        const dataTable =\n",
              "          await google.colab.kernel.invokeFunction('convertToInteractive',\n",
              "                                                    [key], {});\n",
              "        if (!dataTable) return;\n",
              "\n",
              "        const docLinkHtml = 'Like what you see? Visit the ' +\n",
              "          '<a target=\"_blank\" href=https://colab.research.google.com/notebooks/data_table.ipynb>data table notebook</a>'\n",
              "          + ' to learn more about interactive tables.';\n",
              "        element.innerHTML = '';\n",
              "        dataTable['output_type'] = 'display_data';\n",
              "        await google.colab.output.renderOutput(dataTable, element);\n",
              "        const docLink = document.createElement('div');\n",
              "        docLink.innerHTML = docLinkHtml;\n",
              "        element.appendChild(docLink);\n",
              "      }\n",
              "    </script>\n",
              "  </div>\n",
              "\n",
              "\n",
              "<div id=\"df-36b49634-de64-46e6-80a3-7d9707017a4c\">\n",
              "  <button class=\"colab-df-quickchart\" onclick=\"quickchart('df-36b49634-de64-46e6-80a3-7d9707017a4c')\"\n",
              "            title=\"Suggest charts.\"\n",
              "            style=\"display:none;\">\n",
              "\n",
              "<svg xmlns=\"http://www.w3.org/2000/svg\" height=\"24px\"viewBox=\"0 0 24 24\"\n",
              "     width=\"24px\">\n",
              "    <g>\n",
              "        <path d=\"M19 3H5c-1.1 0-2 .9-2 2v14c0 1.1.9 2 2 2h14c1.1 0 2-.9 2-2V5c0-1.1-.9-2-2-2zM9 17H7v-7h2v7zm4 0h-2V7h2v10zm4 0h-2v-4h2v4z\"/>\n",
              "    </g>\n",
              "</svg>\n",
              "  </button>\n",
              "\n",
              "<style>\n",
              "  .colab-df-quickchart {\n",
              "      --bg-color: #E8F0FE;\n",
              "      --fill-color: #1967D2;\n",
              "      --hover-bg-color: #E2EBFA;\n",
              "      --hover-fill-color: #174EA6;\n",
              "      --disabled-fill-color: #AAA;\n",
              "      --disabled-bg-color: #DDD;\n",
              "  }\n",
              "\n",
              "  [theme=dark] .colab-df-quickchart {\n",
              "      --bg-color: #3B4455;\n",
              "      --fill-color: #D2E3FC;\n",
              "      --hover-bg-color: #434B5C;\n",
              "      --hover-fill-color: #FFFFFF;\n",
              "      --disabled-bg-color: #3B4455;\n",
              "      --disabled-fill-color: #666;\n",
              "  }\n",
              "\n",
              "  .colab-df-quickchart {\n",
              "    background-color: var(--bg-color);\n",
              "    border: none;\n",
              "    border-radius: 50%;\n",
              "    cursor: pointer;\n",
              "    display: none;\n",
              "    fill: var(--fill-color);\n",
              "    height: 32px;\n",
              "    padding: 0;\n",
              "    width: 32px;\n",
              "  }\n",
              "\n",
              "  .colab-df-quickchart:hover {\n",
              "    background-color: var(--hover-bg-color);\n",
              "    box-shadow: 0 1px 2px rgba(60, 64, 67, 0.3), 0 1px 3px 1px rgba(60, 64, 67, 0.15);\n",
              "    fill: var(--button-hover-fill-color);\n",
              "  }\n",
              "\n",
              "  .colab-df-quickchart-complete:disabled,\n",
              "  .colab-df-quickchart-complete:disabled:hover {\n",
              "    background-color: var(--disabled-bg-color);\n",
              "    fill: var(--disabled-fill-color);\n",
              "    box-shadow: none;\n",
              "  }\n",
              "\n",
              "  .colab-df-spinner {\n",
              "    border: 2px solid var(--fill-color);\n",
              "    border-color: transparent;\n",
              "    border-bottom-color: var(--fill-color);\n",
              "    animation:\n",
              "      spin 1s steps(1) infinite;\n",
              "  }\n",
              "\n",
              "  @keyframes spin {\n",
              "    0% {\n",
              "      border-color: transparent;\n",
              "      border-bottom-color: var(--fill-color);\n",
              "      border-left-color: var(--fill-color);\n",
              "    }\n",
              "    20% {\n",
              "      border-color: transparent;\n",
              "      border-left-color: var(--fill-color);\n",
              "      border-top-color: var(--fill-color);\n",
              "    }\n",
              "    30% {\n",
              "      border-color: transparent;\n",
              "      border-left-color: var(--fill-color);\n",
              "      border-top-color: var(--fill-color);\n",
              "      border-right-color: var(--fill-color);\n",
              "    }\n",
              "    40% {\n",
              "      border-color: transparent;\n",
              "      border-right-color: var(--fill-color);\n",
              "      border-top-color: var(--fill-color);\n",
              "    }\n",
              "    60% {\n",
              "      border-color: transparent;\n",
              "      border-right-color: var(--fill-color);\n",
              "    }\n",
              "    80% {\n",
              "      border-color: transparent;\n",
              "      border-right-color: var(--fill-color);\n",
              "      border-bottom-color: var(--fill-color);\n",
              "    }\n",
              "    90% {\n",
              "      border-color: transparent;\n",
              "      border-bottom-color: var(--fill-color);\n",
              "    }\n",
              "  }\n",
              "</style>\n",
              "\n",
              "  <script>\n",
              "    async function quickchart(key) {\n",
              "      const quickchartButtonEl =\n",
              "        document.querySelector('#' + key + ' button');\n",
              "      quickchartButtonEl.disabled = true;  // To prevent multiple clicks.\n",
              "      quickchartButtonEl.classList.add('colab-df-spinner');\n",
              "      try {\n",
              "        const charts = await google.colab.kernel.invokeFunction(\n",
              "            'suggestCharts', [key], {});\n",
              "      } catch (error) {\n",
              "        console.error('Error during call to suggestCharts:', error);\n",
              "      }\n",
              "      quickchartButtonEl.classList.remove('colab-df-spinner');\n",
              "      quickchartButtonEl.classList.add('colab-df-quickchart-complete');\n",
              "    }\n",
              "    (() => {\n",
              "      let quickchartButtonEl =\n",
              "        document.querySelector('#df-36b49634-de64-46e6-80a3-7d9707017a4c button');\n",
              "      quickchartButtonEl.style.display =\n",
              "        google.colab.kernel.accessAllowed ? 'block' : 'none';\n",
              "    })();\n",
              "  </script>\n",
              "</div>\n",
              "    </div>\n",
              "  </div>\n"
            ]
          },
          "metadata": {},
          "execution_count": 43
        }
      ]
    },
    {
      "cell_type": "code",
      "source": [
        "#3 Analisis exploratorio.\n",
        "#Realizamos una descipcion estadistica basica de las distintas variables del set de datos, cantidad, media, devio standard, valor minimo, primer cuartil, segundo cuartil, tercer cuartil, valor maximo.\n",
        "dataframe.describe()"
      ],
      "metadata": {
        "colab": {
          "base_uri": "https://localhost:8080/",
          "height": 300
        },
        "id": "MpZ29tPkcV50",
        "outputId": "5fbb77e7-b6f4-4cc9-9a93-e79ca6e293f4"
      },
      "execution_count": 6,
      "outputs": [
        {
          "output_type": "execute_result",
          "data": {
            "text/plain": [
              "             GOB1        GOB2       GOBNO       MIGRA\n",
              "count  366.000000  366.000000  366.000000  366.000000\n",
              "mean     2.300546    4.650273    4.390710    0.543716\n",
              "std      2.004748    2.242329    1.966241    0.498767\n",
              "min      1.000000    1.000000    1.000000    0.000000\n",
              "25%      1.000000    3.000000    3.000000    0.000000\n",
              "50%      1.000000    5.000000    4.000000    1.000000\n",
              "75%      3.000000    7.000000    7.000000    1.000000\n",
              "max      7.000000    7.000000    7.000000    1.000000"
            ],
            "text/html": [
              "\n",
              "  <div id=\"df-dc7c6633-f9fd-48ef-a110-9ea31d441cfd\" class=\"colab-df-container\">\n",
              "    <div>\n",
              "<style scoped>\n",
              "    .dataframe tbody tr th:only-of-type {\n",
              "        vertical-align: middle;\n",
              "    }\n",
              "\n",
              "    .dataframe tbody tr th {\n",
              "        vertical-align: top;\n",
              "    }\n",
              "\n",
              "    .dataframe thead th {\n",
              "        text-align: right;\n",
              "    }\n",
              "</style>\n",
              "<table border=\"1\" class=\"dataframe\">\n",
              "  <thead>\n",
              "    <tr style=\"text-align: right;\">\n",
              "      <th></th>\n",
              "      <th>GOB1</th>\n",
              "      <th>GOB2</th>\n",
              "      <th>GOBNO</th>\n",
              "      <th>MIGRA</th>\n",
              "    </tr>\n",
              "  </thead>\n",
              "  <tbody>\n",
              "    <tr>\n",
              "      <th>count</th>\n",
              "      <td>366.000000</td>\n",
              "      <td>366.000000</td>\n",
              "      <td>366.000000</td>\n",
              "      <td>366.000000</td>\n",
              "    </tr>\n",
              "    <tr>\n",
              "      <th>mean</th>\n",
              "      <td>2.300546</td>\n",
              "      <td>4.650273</td>\n",
              "      <td>4.390710</td>\n",
              "      <td>0.543716</td>\n",
              "    </tr>\n",
              "    <tr>\n",
              "      <th>std</th>\n",
              "      <td>2.004748</td>\n",
              "      <td>2.242329</td>\n",
              "      <td>1.966241</td>\n",
              "      <td>0.498767</td>\n",
              "    </tr>\n",
              "    <tr>\n",
              "      <th>min</th>\n",
              "      <td>1.000000</td>\n",
              "      <td>1.000000</td>\n",
              "      <td>1.000000</td>\n",
              "      <td>0.000000</td>\n",
              "    </tr>\n",
              "    <tr>\n",
              "      <th>25%</th>\n",
              "      <td>1.000000</td>\n",
              "      <td>3.000000</td>\n",
              "      <td>3.000000</td>\n",
              "      <td>0.000000</td>\n",
              "    </tr>\n",
              "    <tr>\n",
              "      <th>50%</th>\n",
              "      <td>1.000000</td>\n",
              "      <td>5.000000</td>\n",
              "      <td>4.000000</td>\n",
              "      <td>1.000000</td>\n",
              "    </tr>\n",
              "    <tr>\n",
              "      <th>75%</th>\n",
              "      <td>3.000000</td>\n",
              "      <td>7.000000</td>\n",
              "      <td>7.000000</td>\n",
              "      <td>1.000000</td>\n",
              "    </tr>\n",
              "    <tr>\n",
              "      <th>max</th>\n",
              "      <td>7.000000</td>\n",
              "      <td>7.000000</td>\n",
              "      <td>7.000000</td>\n",
              "      <td>1.000000</td>\n",
              "    </tr>\n",
              "  </tbody>\n",
              "</table>\n",
              "</div>\n",
              "    <div class=\"colab-df-buttons\">\n",
              "\n",
              "  <div class=\"colab-df-container\">\n",
              "    <button class=\"colab-df-convert\" onclick=\"convertToInteractive('df-dc7c6633-f9fd-48ef-a110-9ea31d441cfd')\"\n",
              "            title=\"Convert this dataframe to an interactive table.\"\n",
              "            style=\"display:none;\">\n",
              "\n",
              "  <svg xmlns=\"http://www.w3.org/2000/svg\" height=\"24px\" viewBox=\"0 -960 960 960\">\n",
              "    <path d=\"M120-120v-720h720v720H120Zm60-500h600v-160H180v160Zm220 220h160v-160H400v160Zm0 220h160v-160H400v160ZM180-400h160v-160H180v160Zm440 0h160v-160H620v160ZM180-180h160v-160H180v160Zm440 0h160v-160H620v160Z\"/>\n",
              "  </svg>\n",
              "    </button>\n",
              "\n",
              "  <style>\n",
              "    .colab-df-container {\n",
              "      display:flex;\n",
              "      gap: 12px;\n",
              "    }\n",
              "\n",
              "    .colab-df-convert {\n",
              "      background-color: #E8F0FE;\n",
              "      border: none;\n",
              "      border-radius: 50%;\n",
              "      cursor: pointer;\n",
              "      display: none;\n",
              "      fill: #1967D2;\n",
              "      height: 32px;\n",
              "      padding: 0 0 0 0;\n",
              "      width: 32px;\n",
              "    }\n",
              "\n",
              "    .colab-df-convert:hover {\n",
              "      background-color: #E2EBFA;\n",
              "      box-shadow: 0px 1px 2px rgba(60, 64, 67, 0.3), 0px 1px 3px 1px rgba(60, 64, 67, 0.15);\n",
              "      fill: #174EA6;\n",
              "    }\n",
              "\n",
              "    .colab-df-buttons div {\n",
              "      margin-bottom: 4px;\n",
              "    }\n",
              "\n",
              "    [theme=dark] .colab-df-convert {\n",
              "      background-color: #3B4455;\n",
              "      fill: #D2E3FC;\n",
              "    }\n",
              "\n",
              "    [theme=dark] .colab-df-convert:hover {\n",
              "      background-color: #434B5C;\n",
              "      box-shadow: 0px 1px 3px 1px rgba(0, 0, 0, 0.15);\n",
              "      filter: drop-shadow(0px 1px 2px rgba(0, 0, 0, 0.3));\n",
              "      fill: #FFFFFF;\n",
              "    }\n",
              "  </style>\n",
              "\n",
              "    <script>\n",
              "      const buttonEl =\n",
              "        document.querySelector('#df-dc7c6633-f9fd-48ef-a110-9ea31d441cfd button.colab-df-convert');\n",
              "      buttonEl.style.display =\n",
              "        google.colab.kernel.accessAllowed ? 'block' : 'none';\n",
              "\n",
              "      async function convertToInteractive(key) {\n",
              "        const element = document.querySelector('#df-dc7c6633-f9fd-48ef-a110-9ea31d441cfd');\n",
              "        const dataTable =\n",
              "          await google.colab.kernel.invokeFunction('convertToInteractive',\n",
              "                                                    [key], {});\n",
              "        if (!dataTable) return;\n",
              "\n",
              "        const docLinkHtml = 'Like what you see? Visit the ' +\n",
              "          '<a target=\"_blank\" href=https://colab.research.google.com/notebooks/data_table.ipynb>data table notebook</a>'\n",
              "          + ' to learn more about interactive tables.';\n",
              "        element.innerHTML = '';\n",
              "        dataTable['output_type'] = 'display_data';\n",
              "        await google.colab.output.renderOutput(dataTable, element);\n",
              "        const docLink = document.createElement('div');\n",
              "        docLink.innerHTML = docLinkHtml;\n",
              "        element.appendChild(docLink);\n",
              "      }\n",
              "    </script>\n",
              "  </div>\n",
              "\n",
              "\n",
              "<div id=\"df-02186e37-8c45-4d0c-a002-d0beecd92ed9\">\n",
              "  <button class=\"colab-df-quickchart\" onclick=\"quickchart('df-02186e37-8c45-4d0c-a002-d0beecd92ed9')\"\n",
              "            title=\"Suggest charts.\"\n",
              "            style=\"display:none;\">\n",
              "\n",
              "<svg xmlns=\"http://www.w3.org/2000/svg\" height=\"24px\"viewBox=\"0 0 24 24\"\n",
              "     width=\"24px\">\n",
              "    <g>\n",
              "        <path d=\"M19 3H5c-1.1 0-2 .9-2 2v14c0 1.1.9 2 2 2h14c1.1 0 2-.9 2-2V5c0-1.1-.9-2-2-2zM9 17H7v-7h2v7zm4 0h-2V7h2v10zm4 0h-2v-4h2v4z\"/>\n",
              "    </g>\n",
              "</svg>\n",
              "  </button>\n",
              "\n",
              "<style>\n",
              "  .colab-df-quickchart {\n",
              "      --bg-color: #E8F0FE;\n",
              "      --fill-color: #1967D2;\n",
              "      --hover-bg-color: #E2EBFA;\n",
              "      --hover-fill-color: #174EA6;\n",
              "      --disabled-fill-color: #AAA;\n",
              "      --disabled-bg-color: #DDD;\n",
              "  }\n",
              "\n",
              "  [theme=dark] .colab-df-quickchart {\n",
              "      --bg-color: #3B4455;\n",
              "      --fill-color: #D2E3FC;\n",
              "      --hover-bg-color: #434B5C;\n",
              "      --hover-fill-color: #FFFFFF;\n",
              "      --disabled-bg-color: #3B4455;\n",
              "      --disabled-fill-color: #666;\n",
              "  }\n",
              "\n",
              "  .colab-df-quickchart {\n",
              "    background-color: var(--bg-color);\n",
              "    border: none;\n",
              "    border-radius: 50%;\n",
              "    cursor: pointer;\n",
              "    display: none;\n",
              "    fill: var(--fill-color);\n",
              "    height: 32px;\n",
              "    padding: 0;\n",
              "    width: 32px;\n",
              "  }\n",
              "\n",
              "  .colab-df-quickchart:hover {\n",
              "    background-color: var(--hover-bg-color);\n",
              "    box-shadow: 0 1px 2px rgba(60, 64, 67, 0.3), 0 1px 3px 1px rgba(60, 64, 67, 0.15);\n",
              "    fill: var(--button-hover-fill-color);\n",
              "  }\n",
              "\n",
              "  .colab-df-quickchart-complete:disabled,\n",
              "  .colab-df-quickchart-complete:disabled:hover {\n",
              "    background-color: var(--disabled-bg-color);\n",
              "    fill: var(--disabled-fill-color);\n",
              "    box-shadow: none;\n",
              "  }\n",
              "\n",
              "  .colab-df-spinner {\n",
              "    border: 2px solid var(--fill-color);\n",
              "    border-color: transparent;\n",
              "    border-bottom-color: var(--fill-color);\n",
              "    animation:\n",
              "      spin 1s steps(1) infinite;\n",
              "  }\n",
              "\n",
              "  @keyframes spin {\n",
              "    0% {\n",
              "      border-color: transparent;\n",
              "      border-bottom-color: var(--fill-color);\n",
              "      border-left-color: var(--fill-color);\n",
              "    }\n",
              "    20% {\n",
              "      border-color: transparent;\n",
              "      border-left-color: var(--fill-color);\n",
              "      border-top-color: var(--fill-color);\n",
              "    }\n",
              "    30% {\n",
              "      border-color: transparent;\n",
              "      border-left-color: var(--fill-color);\n",
              "      border-top-color: var(--fill-color);\n",
              "      border-right-color: var(--fill-color);\n",
              "    }\n",
              "    40% {\n",
              "      border-color: transparent;\n",
              "      border-right-color: var(--fill-color);\n",
              "      border-top-color: var(--fill-color);\n",
              "    }\n",
              "    60% {\n",
              "      border-color: transparent;\n",
              "      border-right-color: var(--fill-color);\n",
              "    }\n",
              "    80% {\n",
              "      border-color: transparent;\n",
              "      border-right-color: var(--fill-color);\n",
              "      border-bottom-color: var(--fill-color);\n",
              "    }\n",
              "    90% {\n",
              "      border-color: transparent;\n",
              "      border-bottom-color: var(--fill-color);\n",
              "    }\n",
              "  }\n",
              "</style>\n",
              "\n",
              "  <script>\n",
              "    async function quickchart(key) {\n",
              "      const quickchartButtonEl =\n",
              "        document.querySelector('#' + key + ' button');\n",
              "      quickchartButtonEl.disabled = true;  // To prevent multiple clicks.\n",
              "      quickchartButtonEl.classList.add('colab-df-spinner');\n",
              "      try {\n",
              "        const charts = await google.colab.kernel.invokeFunction(\n",
              "            'suggestCharts', [key], {});\n",
              "      } catch (error) {\n",
              "        console.error('Error during call to suggestCharts:', error);\n",
              "      }\n",
              "      quickchartButtonEl.classList.remove('colab-df-spinner');\n",
              "      quickchartButtonEl.classList.add('colab-df-quickchart-complete');\n",
              "    }\n",
              "    (() => {\n",
              "      let quickchartButtonEl =\n",
              "        document.querySelector('#df-02186e37-8c45-4d0c-a002-d0beecd92ed9 button');\n",
              "      quickchartButtonEl.style.display =\n",
              "        google.colab.kernel.accessAllowed ? 'block' : 'none';\n",
              "    })();\n",
              "  </script>\n",
              "</div>\n",
              "    </div>\n",
              "  </div>\n"
            ]
          },
          "metadata": {},
          "execution_count": 6
        }
      ]
    },
    {
      "cell_type": "code",
      "source": [
        "#4 Analisis exploratorio.\n",
        "#Descripcion de las columnas, sus nombres cantidad de datos contenidos y tipo de datos\n",
        "dataframe.info()"
      ],
      "metadata": {
        "colab": {
          "base_uri": "https://localhost:8080/"
        },
        "id": "Y5tl_mSJgRgA",
        "outputId": "a8597da2-a18a-4bcf-cd9e-e329a6c4740d"
      },
      "execution_count": null,
      "outputs": [
        {
          "output_type": "stream",
          "name": "stdout",
          "text": [
            "<class 'pandas.core.frame.DataFrame'>\n",
            "RangeIndex: 366 entries, 0 to 365\n",
            "Data columns (total 4 columns):\n",
            " #   Column  Non-Null Count  Dtype\n",
            "---  ------  --------------  -----\n",
            " 0   GOB1    366 non-null    int64\n",
            " 1   GOB2    366 non-null    int64\n",
            " 2   GOBNO   366 non-null    int64\n",
            " 3   MIGRA   366 non-null    int64\n",
            "dtypes: int64(4)\n",
            "memory usage: 11.6 KB\n"
          ]
        }
      ]
    },
    {
      "cell_type": "markdown",
      "source": [
        "En el analisis exploratorio de los datos podemos observar que no tenemos datos nulos, ademas que todos los datos son del tipo numerico y las cantidades entre las variables son iguales."
      ],
      "metadata": {
        "id": "9gtkqQy_2wpp"
      }
    },
    {
      "cell_type": "code",
      "source": [
        "#5 imprimimos conteo del contenido de la columna GOB1 en orden descendente\n",
        "print(dataframe['GOB1'].value_counts())"
      ],
      "metadata": {
        "colab": {
          "base_uri": "https://localhost:8080/"
        },
        "id": "Oln_ba_rn2tA",
        "outputId": "418dafb8-47ad-4206-8cdf-3f8fb70a0605"
      },
      "execution_count": null,
      "outputs": [
        {
          "output_type": "stream",
          "name": "stdout",
          "text": [
            "1    220\n",
            "3     53\n",
            "7     39\n",
            "2     26\n",
            "5     16\n",
            "4      7\n",
            "6      5\n",
            "Name: GOB1, dtype: int64\n"
          ]
        }
      ]
    },
    {
      "cell_type": "code",
      "source": [
        "#6 imprimimos conteo del contenido de la columna GOB2 en orden descendente\n",
        "print(dataframe['GOB2'].value_counts())"
      ],
      "metadata": {
        "colab": {
          "base_uri": "https://localhost:8080/"
        },
        "id": "C2r0A4OrpBYL",
        "outputId": "43e108a4-21b4-4b65-f6bc-c08f351ca115"
      },
      "execution_count": null,
      "outputs": [
        {
          "output_type": "stream",
          "name": "stdout",
          "text": [
            "7    140\n",
            "3     66\n",
            "2     45\n",
            "1     38\n",
            "5     34\n",
            "6     27\n",
            "4     16\n",
            "Name: GOB2, dtype: int64\n"
          ]
        }
      ]
    },
    {
      "cell_type": "code",
      "source": [
        "#7 imprimimos conteo del contenido de la columna GOBNO en orden descendente\n",
        "print(dataframe['GOBNO'].value_counts())"
      ],
      "metadata": {
        "colab": {
          "base_uri": "https://localhost:8080/"
        },
        "id": "WeNsqswcpEy6",
        "outputId": "e806610d-a84e-4031-d229-e7f065435d8f"
      },
      "execution_count": null,
      "outputs": [
        {
          "output_type": "stream",
          "name": "stdout",
          "text": [
            "7    100\n",
            "3     97\n",
            "5     62\n",
            "4     40\n",
            "2     29\n",
            "1     28\n",
            "6     10\n",
            "Name: GOBNO, dtype: int64\n"
          ]
        }
      ]
    },
    {
      "cell_type": "code",
      "source": [
        "#7.1 imprimimos conteo del contenido de la columna MIGRA en orden descendente\n",
        "print(dataframe['MIGRA'].value_counts())"
      ],
      "metadata": {
        "colab": {
          "base_uri": "https://localhost:8080/"
        },
        "id": "KSFr89yVUkiU",
        "outputId": "9d3bdefb-4e94-49e8-fc10-e601f8ece5a2"
      },
      "execution_count": null,
      "outputs": [
        {
          "output_type": "stream",
          "name": "stdout",
          "text": [
            "1    199\n",
            "0    167\n",
            "Name: MIGRA, dtype: int64\n"
          ]
        }
      ]
    },
    {
      "cell_type": "markdown",
      "source": [
        "Aqui podemos apreciar que en relacion a la nueva columna MIGRA se optienen 199 encuestados que demuestran migrar hacia una segunda oferta electoral, lo que representa el 54.3% de los mismos. Por otro lado 167 de ellos no migraria hacia otra opcion electoral, lo que representa un 45.7%"
      ],
      "metadata": {
        "id": "-RVGsNCG3NGO"
      }
    },
    {
      "cell_type": "code",
      "source": [
        "#7.2 MIGRACION DE VOTO\n",
        "#imprimimos la cantidad de electores que migrarian y los que no\n",
        "total_frecuencia_0 = dataframe['MIGRA'].value_counts().get(0, 0)\n",
        "total_frecuencia_1 = dataframe['MIGRA'].value_counts().get(1, 0)\n",
        "\n",
        "print(f'Los electores que migran son: {total_frecuencia_1}')\n",
        "print(f'Los electores que no migran son: {total_frecuencia_0}')"
      ],
      "metadata": {
        "colab": {
          "base_uri": "https://localhost:8080/"
        },
        "id": "doDPl7jrUklg",
        "outputId": "c4002e98-d06f-4690-88fc-19469f5da7e1"
      },
      "execution_count": null,
      "outputs": [
        {
          "output_type": "stream",
          "name": "stdout",
          "text": [
            "Los electores que migran son: 199\n",
            "Los electores que no migran son: 167\n"
          ]
        }
      ]
    },
    {
      "cell_type": "code",
      "source": [
        "#8 Intencion de voto de los candidatos\n",
        "#imprimimos la intencion de voto de cada uno de los candidatos contando la frecuencia de cada uno de ellos\n",
        "total_frecuencia_1 = dataframe['GOB1'].value_counts().get(1, 0)\n",
        "total_frecuencia_2 = dataframe['GOB1'].value_counts().get(2, 0)\n",
        "total_frecuencia_3 = dataframe['GOB1'].value_counts().get(3, 0)\n",
        "total_frecuencia_4 = dataframe['GOB1'].value_counts().get(4, 0)\n",
        "total_frecuencia_5 = dataframe['GOB1'].value_counts().get(5, 0)\n",
        "\n",
        "\n",
        "print(f'La intencion de voto del candidato 1 es: {total_frecuencia_1}')\n",
        "print(f'La intencion de voto del candidato 2 es: {total_frecuencia_2}')\n",
        "print(f'La intencion de voto del candidato 3 es: {total_frecuencia_3}')\n",
        "print(f'La intencion de voto del candidato 4 es: {total_frecuencia_4}')\n",
        "print(f'La intencion de voto del candidato 5 es: {total_frecuencia_5}')"
      ],
      "metadata": {
        "colab": {
          "base_uri": "https://localhost:8080/"
        },
        "id": "0iA122u1dQEY",
        "outputId": "ea72a1b1-31fd-465e-c445-5ded34999385"
      },
      "execution_count": 7,
      "outputs": [
        {
          "output_type": "stream",
          "name": "stdout",
          "text": [
            "La intencion de voto del candidato 1 es: 220\n",
            "La intencion de voto del candidato 2 es: 26\n",
            "La intencion de voto del candidato 3 es: 53\n",
            "La intencion de voto del candidato 4 es: 7\n",
            "La intencion de voto del candidato 5 es: 16\n"
          ]
        }
      ]
    },
    {
      "cell_type": "markdown",
      "source": [
        "Uno de los analisis mas importantes en clave electoral es la individualizacion de las distinttas tipologias electorales, en tal sentido aqui trabajaremos en individualizarlos a partir de los datos contenidos en el DataFrame.\n",
        "Justamente el Voto Duro, es aquel elector que no migra hacia ninguna otra opcion electoral."
      ],
      "metadata": {
        "id": "Yc8kFkD14HFs"
      }
    },
    {
      "cell_type": "code",
      "source": [
        "#9 Definimos la función para contar los votos duros\n",
        "def contar_votos_duros(row):\n",
        "    if (row['GOB1'] in range(1, 6) and row['GOB2'] == row['GOB1']) or (row['GOB1'] in range(1, 6) and row['GOB2'] in [6, 7]):\n",
        "        return 1\n",
        "    else:\n",
        "        return 0"
      ],
      "metadata": {
        "id": "YT3JatI4NCM9"
      },
      "execution_count": 10,
      "outputs": []
    },
    {
      "cell_type": "code",
      "source": [
        "#10 Aplicar la función a cada fila y sumar los votos duros en GOB1\n",
        "dataframe['VotosDuros'] = dataframe.apply(contar_votos_duros, axis=1)\n",
        "total_votos_duros = dataframe['VotosDuros'].sum()\n",
        "\n",
        "print(f'El total de votos duros de todos los candidatos es: {total_votos_duros}')"
      ],
      "metadata": {
        "colab": {
          "base_uri": "https://localhost:8080/"
        },
        "id": "qyOT5cEYNWl_",
        "outputId": "f8ebb2a8-144f-4dc3-afec-2183b7d5db5c"
      },
      "execution_count": 12,
      "outputs": [
        {
          "output_type": "stream",
          "name": "stdout",
          "text": [
            "El total de votos duros de todos los candidatos es: 126\n"
          ]
        }
      ]
    },
    {
      "cell_type": "code",
      "source": [
        "#11 Contar el número de votos duros de cada uno de los candidatos\n",
        "votos_duros_con_1 = dataframe[dataframe['GOB1'] == 1]['VotosDuros'].sum()\n",
        "votos_duros_con_2 = dataframe[dataframe['GOB1'] == 2]['VotosDuros'].sum()\n",
        "votos_duros_con_3 = dataframe[dataframe['GOB1'] == 3]['VotosDuros'].sum()\n",
        "votos_duros_con_4 = dataframe[dataframe['GOB1'] == 4]['VotosDuros'].sum()\n",
        "votos_duros_con_5 = dataframe[dataframe['GOB1'] == 5]['VotosDuros'].sum()\n",
        "\n",
        "\n",
        "print(f'Los votos duros del candidato 1 son: {votos_duros_con_1}')\n",
        "print(f'Los votos duros del candidato 2 son: {votos_duros_con_2}')\n",
        "print(f'Los votos duros del candidato 3 son: {votos_duros_con_3}')\n",
        "print(f'Los votos duros del candidato 4 son: {votos_duros_con_4}')\n",
        "print(f'Los votos duros del candidato 5 son: {votos_duros_con_5}')"
      ],
      "metadata": {
        "colab": {
          "base_uri": "https://localhost:8080/"
        },
        "id": "npis_v8iOwqH",
        "outputId": "b3a8844b-120b-4025-f262-56e0d0760728"
      },
      "execution_count": 13,
      "outputs": [
        {
          "output_type": "stream",
          "name": "stdout",
          "text": [
            "Los votos duros del candidato 1 son: 97\n",
            "Los votos duros del candidato 2 son: 6\n",
            "Los votos duros del candidato 3 son: 14\n",
            "Los votos duros del candidato 4 son: 3\n",
            "Los votos duros del candidato 5 son: 6\n"
          ]
        }
      ]
    },
    {
      "cell_type": "markdown",
      "source": [
        "Por otro lado, siguiendo las distintas tipologias de analisis electoral tenemos el Voto Blando, que es aquel elector que eligiendo a un candidato en particular, en una hipotetica segunda instancia podria migrar hacia otro opcion electoral. Aqui vamos a trabajar en individualizarlo y cuantificarl el fenomeno para cada uno de los candidatos."
      ],
      "metadata": {
        "id": "qdcxRYMQ5J6F"
      }
    },
    {
      "cell_type": "code",
      "source": [
        "#12 Contamos el voto Blando de los candidatos\n",
        "voto_blando_1 =(total_frecuencia_1 - votos_duros_con_1)\n",
        "voto_blando_2 =(total_frecuencia_2 - votos_duros_con_2)\n",
        "voto_blando_3 =(total_frecuencia_3 - votos_duros_con_3)\n",
        "voto_blando_4 =(total_frecuencia_4 - votos_duros_con_4)\n",
        "voto_blando_5 =(total_frecuencia_5 - votos_duros_con_5)\n",
        "\n",
        "print(f'El voto blando del candidato 1 es: {voto_blando_1}')\n",
        "print(f'El voto blando del candidato 2 es: {voto_blando_2}')\n",
        "print(f'El voto blando del candidato 3 es: {voto_blando_3}')\n",
        "print(f'El voto blando del candidato 4 es: {voto_blando_4}')\n",
        "print(f'El voto blando del candidato 5 es: {voto_blando_5}')"
      ],
      "metadata": {
        "colab": {
          "base_uri": "https://localhost:8080/"
        },
        "id": "m5mMyIOiSLo4",
        "outputId": "8af7820b-5546-4e34-c0f9-e6a266c412b7"
      },
      "execution_count": 15,
      "outputs": [
        {
          "output_type": "stream",
          "name": "stdout",
          "text": [
            "El voto blando del candidato 1 es: 123\n",
            "El voto blando del candidato 2 es: 20\n",
            "El voto blando del candidato 3 es: 39\n",
            "El voto blando del candidato 4 es: 4\n",
            "El voto blando del candidato 5 es: 10\n"
          ]
        }
      ]
    },
    {
      "cell_type": "markdown",
      "source": [
        "Los Votos Posibles, son los que reciben los candidatos en concepto de migracion electoral, aqui los vamos a individualizar y cuantificar para cada candidato."
      ],
      "metadata": {
        "id": "eZItZqXj5pii"
      }
    },
    {
      "cell_type": "code",
      "source": [
        "#13 desarrollamos el conteo de los Votos Posibles de cada candidato\n",
        "frecuencia_1_en_GOB2 = (dataframe['GOB2'] == 1).sum()\n",
        "frecuencia_2_en_GOB2 = (dataframe['GOB2'] == 2).sum()\n",
        "frecuencia_3_en_GOB2 = (dataframe['GOB2'] == 3).sum()\n",
        "frecuencia_4_en_GOB2 = (dataframe['GOB2'] == 4).sum()\n",
        "frecuencia_5_en_GOB2 = (dataframe['GOB2'] == 5).sum()\n",
        "\n",
        "print(f'El voto posible del 1 es: {frecuencia_1_en_GOB2}')\n",
        "print(f'El voto posible del 2 es: {frecuencia_2_en_GOB2}')\n",
        "print(f'El voto posible del 3 es: {frecuencia_3_en_GOB2}')\n",
        "print(f'El voto posible del 4 es: {frecuencia_4_en_GOB2}')\n",
        "print(f'El voto posible del 5 es: {frecuencia_5_en_GOB2}')"
      ],
      "metadata": {
        "colab": {
          "base_uri": "https://localhost:8080/"
        },
        "id": "0P53nbevZTzO",
        "outputId": "c646d9ce-db77-4aed-ef1e-c02ed5f9329f"
      },
      "execution_count": 16,
      "outputs": [
        {
          "output_type": "stream",
          "name": "stdout",
          "text": [
            "El voto posible del 1 es: 38\n",
            "El voto posible del 2 es: 45\n",
            "El voto posible del 3 es: 66\n",
            "El voto posible del 4 es: 16\n",
            "El voto posible del 5 es: 34\n"
          ]
        }
      ]
    },
    {
      "cell_type": "markdown",
      "source": [
        "Para el caso del Voto Imposible es aquel que define explicitamente que nunca votara por el candidato observado, aqui lo vamos a individualizar y a cuantificar el fenomeno para cada candidato en cuestion."
      ],
      "metadata": {
        "id": "oV4c6_2b6De6"
      }
    },
    {
      "cell_type": "code",
      "source": [
        "#14 Desarrollamos el conteo de los Votos Imposibles cde cada uno de los candidatos\n",
        "frecuencia_1_en_GOBNO = (dataframe['GOBNO'] == 1).sum()\n",
        "frecuencia_2_en_GOBNO = (dataframe['GOBNO'] == 2).sum()\n",
        "frecuencia_3_en_GOBNO = (dataframe['GOBNO'] == 3).sum()\n",
        "frecuencia_4_en_GOBNO = (dataframe['GOBNO'] == 4).sum()\n",
        "frecuencia_5_en_GOBNO = (dataframe['GOBNO'] == 5).sum()\n",
        "\n",
        "print(f'El voto imposible del 1 es: {frecuencia_1_en_GOBNO}')\n",
        "print(f'El voto imposible del 2 es: {frecuencia_2_en_GOBNO}')\n",
        "print(f'El voto imposible del 3 es: {frecuencia_3_en_GOBNO}')\n",
        "print(f'El voto imposible del 4 es: {frecuencia_4_en_GOBNO}')\n",
        "print(f'El voto imposible del 5 es: {frecuencia_5_en_GOBNO}')"
      ],
      "metadata": {
        "colab": {
          "base_uri": "https://localhost:8080/"
        },
        "id": "n5H3HmKqfwyM",
        "outputId": "93a9cf50-47ae-4765-b805-cd8622febe23"
      },
      "execution_count": 18,
      "outputs": [
        {
          "output_type": "stream",
          "name": "stdout",
          "text": [
            "El voto imposible del 1 es: 28\n",
            "El voto imposible del 2 es: 29\n",
            "El voto imposible del 3 es: 97\n",
            "El voto imposible del 4 es: 40\n",
            "El voto imposible del 5 es: 62\n"
          ]
        }
      ]
    },
    {
      "cell_type": "markdown",
      "source": [
        "Aqui procedemos a establecer los pisos y techos electorales de cada uno de los candidatos presentes en el DataFrame.\n",
        "Para esto como piso electoral establecemos el Nucleo Duro de votos y como techo electoral la frecuencia total mas la frecuencia de migracion de la columna GOB2."
      ],
      "metadata": {
        "id": "lmekIgl26bgX"
      }
    },
    {
      "cell_type": "code",
      "source": [
        "#15 Determinamos el Piso y techo electoral de cada candidato\n",
        "print(f'El piso electoral del candidato 1 es: {votos_duros_con_1} y su techo electoral es: {total_frecuencia_1 + frecuencia_1_en_GOB2}')\n",
        "print(f'El piso electoral del candidato 2 es: {votos_duros_con_2} y su techo electoral es: {total_frecuencia_2 + frecuencia_2_en_GOB2}')\n",
        "print(f'El piso electoral del candidato 3 es: {votos_duros_con_3} y su techo electoral es: {total_frecuencia_3 + frecuencia_3_en_GOB2}')\n",
        "print(f'El piso electoral del candidato 4 es: {votos_duros_con_4} y su techo electoral es: {total_frecuencia_4 + frecuencia_4_en_GOB2}')\n",
        "print(f'El piso electoral del candidato 5 es: {votos_duros_con_5} y su techo electoral es: {total_frecuencia_5 + frecuencia_5_en_GOB2}')"
      ],
      "metadata": {
        "colab": {
          "base_uri": "https://localhost:8080/"
        },
        "id": "MZs7WrXQgXiO",
        "outputId": "b6aebef5-f85d-4f99-d021-48cd1d5d1c08"
      },
      "execution_count": 19,
      "outputs": [
        {
          "output_type": "stream",
          "name": "stdout",
          "text": [
            "El piso electoral del candidato 1 es: 97 y su techo electoral es: 258\n",
            "El piso electoral del candidato 2 es: 6 y su techo electoral es: 71\n",
            "El piso electoral del candidato 3 es: 14 y su techo electoral es: 119\n",
            "El piso electoral del candidato 4 es: 3 y su techo electoral es: 23\n",
            "El piso electoral del candidato 5 es: 6 y su techo electoral es: 50\n"
          ]
        }
      ]
    },
    {
      "cell_type": "markdown",
      "source": [
        "Aqui vamos a definir el Voto Dificil, que esta dentro del universo de los indecisos y para cada candidato en particular surgira producto de la diferencia de la frecuencia total de los registros del DataFrame, menos la columna GOB1, GOB2 Y GOBNO para cada candidato.\n",
        "En este sentido cabe destacar que los candidatos mas competitivos tendran una menor cantidad de votos dificiles y al contrario sucedera con los candidatos menos competitivos."
      ],
      "metadata": {
        "id": "l5ZgvgHw7K6R"
      }
    },
    {
      "cell_type": "code",
      "source": [
        "#16 Definimos los votos dificiles de cada candidato\n",
        "\n",
        "print(f'El voto dificil del candidato 1 es: {dataframe.count() - total_frecuencia_1 - frecuencia_1_en_GOB2 - frecuencia_1_en_GOBNO}')\n",
        "print(f'El voto dificil del candidato 2 es: {dataframe.count() - total_frecuencia_2 - frecuencia_2_en_GOB2 - frecuencia_2_en_GOBNO}')\n",
        "print(f'El voto dificil del candidato 3 es: {dataframe.count() - total_frecuencia_3 - frecuencia_3_en_GOB2 - frecuencia_3_en_GOBNO}')\n",
        "print(f'El voto dificil del candidato 4 es: {dataframe.count() - total_frecuencia_4 - frecuencia_4_en_GOB2 - frecuencia_4_en_GOBNO}')\n",
        "print(f'El voto dificil del candidato 5 es: {dataframe.count() - total_frecuencia_5 - frecuencia_5_en_GOB2 - frecuencia_5_en_GOBNO}')"
      ],
      "metadata": {
        "colab": {
          "base_uri": "https://localhost:8080/"
        },
        "id": "bGibWbVCk1SX",
        "outputId": "d3d18cfe-b1c7-431b-95ba-1380d94aceb3"
      },
      "execution_count": 20,
      "outputs": [
        {
          "output_type": "stream",
          "name": "stdout",
          "text": [
            "El voto dificil del candidato 1 es: GOB1          80\n",
            "GOB2          80\n",
            "GOBNO         80\n",
            "MIGRA         80\n",
            "VotosDuros    80\n",
            "dtype: int64\n",
            "El voto dificil del candidato 2 es: GOB1          266\n",
            "GOB2          266\n",
            "GOBNO         266\n",
            "MIGRA         266\n",
            "VotosDuros    266\n",
            "dtype: int64\n",
            "El voto dificil del candidato 3 es: GOB1          150\n",
            "GOB2          150\n",
            "GOBNO         150\n",
            "MIGRA         150\n",
            "VotosDuros    150\n",
            "dtype: int64\n",
            "El voto dificil del candidato 4 es: GOB1          303\n",
            "GOB2          303\n",
            "GOBNO         303\n",
            "MIGRA         303\n",
            "VotosDuros    303\n",
            "dtype: int64\n",
            "El voto dificil del candidato 5 es: GOB1          254\n",
            "GOB2          254\n",
            "GOBNO         254\n",
            "MIGRA         254\n",
            "VotosDuros    254\n",
            "dtype: int64\n"
          ]
        }
      ]
    },
    {
      "cell_type": "markdown",
      "source": [
        "Iniciamos la instancia de creacion del modelo de de regresion logistica en el que vamos a seleccionar y discriminar aquellos electores que migran de los que no migran, categorizados debidamente en la nueva columna MIGRA, que surge del analisis de las columnas GOB1 y GOB2."
      ],
      "metadata": {
        "id": "zwJIxFzl8fGe"
      }
    },
    {
      "cell_type": "code",
      "source": [
        "#17 organizamos los datos en dos matrices de analisis: X con caracteristicas que contienen a los candidatos del 1 al 5 y las opciones de voto en blanco y no sabe no contesta, e Y como variable objetivo que nos ofrece como resultado si se da la presencia de voto migratorio con el digito 1, de lo contrario nos dice 0.\n",
        "X = np.array(dataframe.drop(['GOB1','GOB2'], axis=1))\n",
        "y = np.array(dataframe['MIGRA'])\n",
        "X.shape"
      ],
      "metadata": {
        "colab": {
          "base_uri": "https://localhost:8080/"
        },
        "id": "ychlfRwYNQ8D",
        "outputId": "e522c6d5-7c03-4b46-c82e-fcdf5c2dbabf"
      },
      "execution_count": 22,
      "outputs": [
        {
          "output_type": "execute_result",
          "data": {
            "text/plain": [
              "(366, 3)"
            ]
          },
          "metadata": {},
          "execution_count": 22
        }
      ]
    },
    {
      "cell_type": "code",
      "source": [
        "#18 creamos una instancia del modelo de regresión logística, importamos la clase LogisticRegression de la biblioteca sklearn.linear_model, que nos permite construir y entrenar un modelo de regresión logística.\n",
        "model = linear_model.LogisticRegression(solver='liblinear') #creamos una instancia del modelo de regresión logística y la asignamos a la variable model. También se especifica el argumento solver como 'liblinear', que es un algoritmo de optimización utilizado para ajustar los parámetros del modelo. 'liblinear' es adecuado para problemas de clasificación binaria y es una opción común para problemas pequeños o medianos.\n",
        "model.fit(X,y) # aqui entrenamos el modelo donde fit realizara el ajuste del modelo en funcion de los datos registrados previamente en X"
      ],
      "metadata": {
        "colab": {
          "base_uri": "https://localhost:8080/",
          "height": 75
        },
        "id": "Y7wCFnVgNQ_N",
        "outputId": "3a90b2a9-483d-4e64-9b2a-a0ccb870e3ed"
      },
      "execution_count": 24,
      "outputs": [
        {
          "output_type": "execute_result",
          "data": {
            "text/plain": [
              "LogisticRegression(solver='liblinear')"
            ],
            "text/html": [
              "<style>#sk-container-id-2 {color: black;background-color: white;}#sk-container-id-2 pre{padding: 0;}#sk-container-id-2 div.sk-toggleable {background-color: white;}#sk-container-id-2 label.sk-toggleable__label {cursor: pointer;display: block;width: 100%;margin-bottom: 0;padding: 0.3em;box-sizing: border-box;text-align: center;}#sk-container-id-2 label.sk-toggleable__label-arrow:before {content: \"▸\";float: left;margin-right: 0.25em;color: #696969;}#sk-container-id-2 label.sk-toggleable__label-arrow:hover:before {color: black;}#sk-container-id-2 div.sk-estimator:hover label.sk-toggleable__label-arrow:before {color: black;}#sk-container-id-2 div.sk-toggleable__content {max-height: 0;max-width: 0;overflow: hidden;text-align: left;background-color: #f0f8ff;}#sk-container-id-2 div.sk-toggleable__content pre {margin: 0.2em;color: black;border-radius: 0.25em;background-color: #f0f8ff;}#sk-container-id-2 input.sk-toggleable__control:checked~div.sk-toggleable__content {max-height: 200px;max-width: 100%;overflow: auto;}#sk-container-id-2 input.sk-toggleable__control:checked~label.sk-toggleable__label-arrow:before {content: \"▾\";}#sk-container-id-2 div.sk-estimator input.sk-toggleable__control:checked~label.sk-toggleable__label {background-color: #d4ebff;}#sk-container-id-2 div.sk-label input.sk-toggleable__control:checked~label.sk-toggleable__label {background-color: #d4ebff;}#sk-container-id-2 input.sk-hidden--visually {border: 0;clip: rect(1px 1px 1px 1px);clip: rect(1px, 1px, 1px, 1px);height: 1px;margin: -1px;overflow: hidden;padding: 0;position: absolute;width: 1px;}#sk-container-id-2 div.sk-estimator {font-family: monospace;background-color: #f0f8ff;border: 1px dotted black;border-radius: 0.25em;box-sizing: border-box;margin-bottom: 0.5em;}#sk-container-id-2 div.sk-estimator:hover {background-color: #d4ebff;}#sk-container-id-2 div.sk-parallel-item::after {content: \"\";width: 100%;border-bottom: 1px solid gray;flex-grow: 1;}#sk-container-id-2 div.sk-label:hover label.sk-toggleable__label {background-color: #d4ebff;}#sk-container-id-2 div.sk-serial::before {content: \"\";position: absolute;border-left: 1px solid gray;box-sizing: border-box;top: 0;bottom: 0;left: 50%;z-index: 0;}#sk-container-id-2 div.sk-serial {display: flex;flex-direction: column;align-items: center;background-color: white;padding-right: 0.2em;padding-left: 0.2em;position: relative;}#sk-container-id-2 div.sk-item {position: relative;z-index: 1;}#sk-container-id-2 div.sk-parallel {display: flex;align-items: stretch;justify-content: center;background-color: white;position: relative;}#sk-container-id-2 div.sk-item::before, #sk-container-id-2 div.sk-parallel-item::before {content: \"\";position: absolute;border-left: 1px solid gray;box-sizing: border-box;top: 0;bottom: 0;left: 50%;z-index: -1;}#sk-container-id-2 div.sk-parallel-item {display: flex;flex-direction: column;z-index: 1;position: relative;background-color: white;}#sk-container-id-2 div.sk-parallel-item:first-child::after {align-self: flex-end;width: 50%;}#sk-container-id-2 div.sk-parallel-item:last-child::after {align-self: flex-start;width: 50%;}#sk-container-id-2 div.sk-parallel-item:only-child::after {width: 0;}#sk-container-id-2 div.sk-dashed-wrapped {border: 1px dashed gray;margin: 0 0.4em 0.5em 0.4em;box-sizing: border-box;padding-bottom: 0.4em;background-color: white;}#sk-container-id-2 div.sk-label label {font-family: monospace;font-weight: bold;display: inline-block;line-height: 1.2em;}#sk-container-id-2 div.sk-label-container {text-align: center;}#sk-container-id-2 div.sk-container {/* jupyter's `normalize.less` sets `[hidden] { display: none; }` but bootstrap.min.css set `[hidden] { display: none !important; }` so we also need the `!important` here to be able to override the default hidden behavior on the sphinx rendered scikit-learn.org. See: https://github.com/scikit-learn/scikit-learn/issues/21755 */display: inline-block !important;position: relative;}#sk-container-id-2 div.sk-text-repr-fallback {display: none;}</style><div id=\"sk-container-id-2\" class=\"sk-top-container\"><div class=\"sk-text-repr-fallback\"><pre>LogisticRegression(solver=&#x27;liblinear&#x27;)</pre><b>In a Jupyter environment, please rerun this cell to show the HTML representation or trust the notebook. <br />On GitHub, the HTML representation is unable to render, please try loading this page with nbviewer.org.</b></div><div class=\"sk-container\" hidden><div class=\"sk-item\"><div class=\"sk-estimator sk-toggleable\"><input class=\"sk-toggleable__control sk-hidden--visually\" id=\"sk-estimator-id-2\" type=\"checkbox\" checked><label for=\"sk-estimator-id-2\" class=\"sk-toggleable__label sk-toggleable__label-arrow\">LogisticRegression</label><div class=\"sk-toggleable__content\"><pre>LogisticRegression(solver=&#x27;liblinear&#x27;)</pre></div></div></div></div></div>"
            ]
          },
          "metadata": {},
          "execution_count": 24
        }
      ]
    },
    {
      "cell_type": "code",
      "source": [
        "#19 Aqui ejecutamos las predicciones en el conjunto de datos de características (X) utilizando el modelo de regresión logística que ya entrenamos previamente\n",
        "predictions = model.predict(X)\n",
        "print(predictions[0:20])"
      ],
      "metadata": {
        "colab": {
          "base_uri": "https://localhost:8080/"
        },
        "id": "xSV04q5KNRB5",
        "outputId": "159e9fa2-b230-4a40-baf7-0f5d4dcfa5ce"
      },
      "execution_count": null,
      "outputs": [
        {
          "output_type": "stream",
          "name": "stdout",
          "text": [
            "[0 1 1 1 0 0 1 0 0 0 1 0 1 0 0 1 1 1 0 0]\n"
          ]
        }
      ]
    },
    {
      "cell_type": "markdown",
      "source": [
        "Ahora calculamos la precisión del modelo de regresión logística que ejecutamos utilizando el método \"score\" para un modelo de clasificación en scikit-learn (como un modelo de regresión logística) para calcular y devolver la precisión del modelo en un conjunto de datos de características (X) y etiquetas de clase (y). como resultado final mientras mas aproximado a 0 mas impreciso es el modelo, y cuando mas cercano a 1 mas preciso.\n"
      ],
      "metadata": {
        "id": "41lekdFNA9It"
      }
    },
    {
      "cell_type": "code",
      "source": [
        "#20  Ahora calculamos la precisión del modelo de regresión logística que ejecutamos.\n",
        "model.score(X,y)"
      ],
      "metadata": {
        "colab": {
          "base_uri": "https://localhost:8080/"
        },
        "id": "VJ8WGOKNNREv",
        "outputId": "6e72edca-df83-4e19-be50-250761d4392a"
      },
      "execution_count": 27,
      "outputs": [
        {
          "output_type": "execute_result",
          "data": {
            "text/plain": [
              "1.0"
            ]
          },
          "metadata": {},
          "execution_count": 27
        }
      ]
    },
    {
      "cell_type": "markdown",
      "source": [
        "Aqui vamos a dividir el conjunto de datos en dos subconjuntos: uno para entrenamiento (train) y otro para validación (validation) para evaluar el rendimiento de un modelo.\n",
        "\n",
        "Se utiliza la función train_test_split de la biblioteca scikit-learn (model_selection) para dividir tus datos en cuatro conjuntos diferentes:\n",
        "\n",
        "X_train: Conjunto de características (variables independientes) para entrenamiento.\n",
        "X_validation: Conjunto de características para validación.\n",
        "Y_train: Conjunto de etiquetas de clase (variables dependientes) para entrenamiento.\n",
        "Y_validation: Conjunto de etiquetas de clase para validación.\n",
        "Los argumentos utilizados en la función train_test_split son:\n",
        "\n",
        "X y y: Representan el conjunto de datos original de características y etiquetas de clase.\n",
        "test_size: Especifica la proporción de datos que se reservará para validación, que en este caso es el 20%.\n",
        "random_state: Establece la semilla aleatoria para garantizar la reproducibilidad de la división."
      ],
      "metadata": {
        "id": "U6zgCKfPCUV1"
      }
    },
    {
      "cell_type": "code",
      "source": [
        "#21 Validacion del modelo con un 20% destinado a la validacion y el 80% al entrenamiento\n",
        "validation_size = 0.20 #se define la variable validation_size y se le asigna el valor 0.20, lo que significa que se reservará el 20% del conjunto de datos total para validación y el 80% restante se utilizará para entrenamiento.\n",
        "seed = 7  #Se define la variable seed y se le asigna un valor, en este caso, el número 7. Esto se utiliza para establecer una semilla aleatoria que garantiza que la división de los datos sea reproducible.\n",
        "X_train, X_validation, Y_train, Y_validation = model_selection.train_test_split(X, y, test_size=validation_size, random_state=seed)"
      ],
      "metadata": {
        "id": "fuoE5MSFNRH0"
      },
      "execution_count": 28,
      "outputs": []
    },
    {
      "cell_type": "markdown",
      "source": [
        "Aqui evaluaremos el modelo de regresión logística utilizando validación cruzada.\n",
        "\n",
        "Se crea una instancia de KFold del módulo model_selection de scikit-learn. n_splits se establece en 10, lo que significa que se realizará una validación cruzada de 10 pliegues. En la validación cruzada de 10 pliegues, los datos de entrenamiento se dividen en 10 partes iguales, y el modelo se entrena y evalúa 10 veces, utilizando cada una de las 10 partes como conjunto de prueba en turnos sucesivos.\n",
        "\n",
        "Se utiliza la función cross_val_score de scikit-learn para realizar la validación cruzada del modelo. Los argumentos son los siguientes:\n",
        "\n",
        "model: Representa el modelo de regresión logística que se entrenará y evaluará en cada pliegue de validación.\n",
        "X_train y Y_train: Son los conjuntos de características y etiquetas de clase utilizados para entrenar el modelo.\n",
        "cv: Representa la estrategia de validación cruzada que se configuró previamente con 10 pliegues.\n",
        "scoring: Especifica la métrica de evaluación utilizada, en este caso, 'accuracy', que mide la precisión del modelo.\n",
        "cv_results será una lista que contiene la puntuación de precisión del modelo para cada uno de los 10 pliegues de validación."
      ],
      "metadata": {
        "id": "4RzpzhTUDnB6"
      }
    },
    {
      "cell_type": "code",
      "source": [
        "#22 ejecutamos un modelo de validacion cruzada para evaluar el rendimiento del modelo\n",
        "name='Logistic Regression'\n",
        "kfold = model_selection.KFold(n_splits=10)\n",
        "cv_results = model_selection.cross_val_score(model, X_train, Y_train, cv=kfold, scoring='accuracy')\n",
        "msg = \"%s: %f (%f)\" % (name, cv_results.mean(), cv_results.std()) #se crea un mensaje que combina el nombre del modelo, la puntuación media de precisión de los pliegues y la desviación estándar de las puntuaciones de precisión.\n",
        "print(msg)"
      ],
      "metadata": {
        "colab": {
          "base_uri": "https://localhost:8080/"
        },
        "id": "uqPB7BylNzfJ",
        "outputId": "4f6e4e4a-0d18-448a-aa65-ab1f7367edef"
      },
      "execution_count": 31,
      "outputs": [
        {
          "output_type": "stream",
          "name": "stdout",
          "text": [
            "Logistic Regression: 1.000000 (0.000000)\n"
          ]
        }
      ]
    },
    {
      "cell_type": "markdown",
      "source": [
        "Calculamos la precision del modelo en el conjunto de los datos de validacion utilizando la función accuracy_score.\n",
        "En este caso la precisión se refiere a la fracción de predicciones correctas sobre el total de predicciones."
      ],
      "metadata": {
        "id": "xqHeoVSGGK3c"
      }
    },
    {
      "cell_type": "code",
      "source": [
        "#23 calculamos la precision del modelo en funcion del conjunto de datos de validacion y prediccion\n",
        "predictions = model.predict(X_validation)\n",
        "print(accuracy_score(Y_validation, predictions))"
      ],
      "metadata": {
        "colab": {
          "base_uri": "https://localhost:8080/"
        },
        "id": "ng5WQnxJNziY",
        "outputId": "23516ecb-c2fe-47b7-b63d-15a5cc05a90d"
      },
      "execution_count": 32,
      "outputs": [
        {
          "output_type": "stream",
          "name": "stdout",
          "text": [
            "1.0\n"
          ]
        }
      ]
    },
    {
      "cell_type": "markdown",
      "source": [
        "Ahora vamos a imprimir una matriz de confusión que resume el rendimiento de nuestro modelo de clasificación en un conjunto de validación.\n",
        "utilizamos la función confusion_matrix para calcular la matriz de confusión.\n",
        "\n",
        "Y_validation: Representa las etiquetas de clase reales (verdaderas) en el conjunto de validación. Estas son las etiquetas que se conocen y se utilizan como punto de referencia para evaluar el modelo.\n",
        "\n",
        "predictions: Representa las etiquetas de clase predichas por el modelo en el conjunto de validación. Estas son las etiquetas que el modelo ha generado a partir de sus predicciones.\n",
        "\n",
        "La matriz de confusión es una tabla que muestra la cantidad de verdaderos positivos (TP), verdaderos negativos (TN), falsos positivos (FP) y falsos negativos (FN) resultantes de las predicciones del modelo en el conjunto de validación.\n"
      ],
      "metadata": {
        "id": "pYnmVR6bG7FO"
      }
    },
    {
      "cell_type": "code",
      "source": [
        "#24 realizamos el reporte de la matriz de confusión que muestra cómo nuestro modelo de clasificación se desempeñó respecto del conjunto de validación\n",
        "print(confusion_matrix(Y_validation, predictions))"
      ],
      "metadata": {
        "colab": {
          "base_uri": "https://localhost:8080/"
        },
        "id": "J6qBgtCiNRKw",
        "outputId": "74b2506d-fc7e-4087-ac86-7eca56ee1653"
      },
      "execution_count": 33,
      "outputs": [
        {
          "output_type": "stream",
          "name": "stdout",
          "text": [
            "[[29  0]\n",
            " [ 0 45]]\n"
          ]
        }
      ]
    },
    {
      "cell_type": "markdown",
      "source": [
        "Ahora vamos a generar un informe de clasificación que resume las métricas de rendimiento de nuestro modelo de clasificación en un conjunto de validación.\n",
        "\n",
        "utilizamos la función classification_report para generar un informe detallado de las métricas de rendimiento del modelo en el conjunto de validación. La función toma dos argumentos:\n",
        "\n",
        "Y_validation: Representa las etiquetas de clase reales (verdaderas) en el conjunto de validación. Estas son las etiquetas conocidas que se utilizan como punto de referencia para evaluar el modelo.\n",
        "\n",
        "predictions: Representa las etiquetas de clase predichas por el modelo en el conjunto de validación. Estas son las etiquetas generadas por el modelo en función de sus predicciones.\n",
        "\n",
        "El informe proporcionará información detallada sobre varias métricas de rendimiento del modelo, que generalmente incluyen:\n",
        "\n",
        "**Precisión (accuracy):** La proporción de predicciones correctas en relación con el total de predicciones.\n",
        "\n",
        "**Sensibilidad (recall) o tasa positiva verdadera (TPR)**: La proporción de verdaderos positivos en relación con todos los positivos reales.\n",
        "\n",
        "**Especificidad (specificity) o tasa negativa verdadera (TNR):** La proporción de verdaderos negativos en relación con todos los negativos reales.\n",
        "\n",
        "**Valor-F1 (F1-score):** Una métrica que combina precisión y sensibilidad en una única medida de rendimiento.\n",
        "\n",
        "El informe de clasificación proporciona una visión más completa y detallada del rendimiento del modelo que la matriz de confusión y otras métricas individuales.\n"
      ],
      "metadata": {
        "id": "sgSdLBXxH9OW"
      }
    },
    {
      "cell_type": "code",
      "source": [
        "#25 Imprimimos un informe de Metricas de desempeño del modelo\n",
        "print(classification_report(Y_validation, predictions))"
      ],
      "metadata": {
        "colab": {
          "base_uri": "https://localhost:8080/"
        },
        "id": "yE78a18eOACC",
        "outputId": "84fc77c2-ef0d-42f0-a569-9fbaaa90bb78"
      },
      "execution_count": null,
      "outputs": [
        {
          "output_type": "stream",
          "name": "stdout",
          "text": [
            "              precision    recall  f1-score   support\n",
            "\n",
            "           0       1.00      1.00      1.00        29\n",
            "           1       1.00      1.00      1.00        45\n",
            "\n",
            "    accuracy                           1.00        74\n",
            "   macro avg       1.00      1.00      1.00        74\n",
            "weighted avg       1.00      1.00      1.00        74\n",
            "\n"
          ]
        }
      ]
    },
    {
      "cell_type": "markdown",
      "source": [
        "Ahora vamos a probar el modelo con una nueva carga de datos no conocidos.\n",
        "\n",
        "En este paso, se crea una matriz Xn utilizando la biblioteca NumPy (np). Cada fila de esta matriz representa una muestra (un conjunto de características) en el nuevo conjunto de datos. En este caso, Xn contiene tres muestras, y cada muestra tiene tres características. Este nuevo conjunto de datos se utilizará para hacer predicciones utilizando el modelo previamente entrenado."
      ],
      "metadata": {
        "id": "Qxvc70x9JnPc"
      }
    },
    {
      "cell_type": "code",
      "source": [
        "#26 probamos el modelo con nuevos datos\n",
        "Xn = np.array([[6,4,1], [2,7,1],[1,7,0]])\n",
        "Yn = model.predict(Xn)\n",
        "print(Yn)"
      ],
      "metadata": {
        "colab": {
          "base_uri": "https://localhost:8080/"
        },
        "id": "A7d5yiScg8L8",
        "outputId": "7acc78e4-aec7-42cd-8d7a-952a9ed5993b"
      },
      "execution_count": 38,
      "outputs": [
        {
          "output_type": "stream",
          "name": "stdout",
          "text": [
            "[1 1 1]\n"
          ]
        }
      ]
    },
    {
      "cell_type": "markdown",
      "source": [
        "Ejecutamos una prueba de precision del modelo, si bien ya lo hicimos de forma integral en el informe de clasificacion, aqui lo hacemos de forma particular y especificamente con Precisión (accuracy): La proporción de predicciones correctas en relación con el total de predicciones.\n"
      ],
      "metadata": {
        "id": "6-MhQ5BEOKeS"
      }
    },
    {
      "cell_type": "code",
      "source": [
        "#27 ejecutamos una prueba de precision del modelo\n",
        "precision = accuracy_score(Y_validation, predictions)\n",
        "print(f'Precisión del modelo: {precision}')"
      ],
      "metadata": {
        "colab": {
          "base_uri": "https://localhost:8080/"
        },
        "id": "X4lJrQrwXEdz",
        "outputId": "bb482b85-9412-4b23-c504-cc532b733896"
      },
      "execution_count": 39,
      "outputs": [
        {
          "output_type": "stream",
          "name": "stdout",
          "text": [
            "Precisión del modelo: 1.0\n"
          ]
        }
      ]
    },
    {
      "cell_type": "code",
      "source": [
        "# Grafico de dispersion\n",
        "plt.scatter(X[y == 0][:, 0], X[y == 0][:, 1], label=\"Clase 0\", marker='o')\n",
        "plt.scatter(X[y == 1][:, 0], X[y == 1][:, 1], label=\"Clase 1\", marker='x')\n",
        "plt.xlabel(\"Característica 1\")\n",
        "plt.ylabel(\"Característica 2\")\n",
        "plt.legend()\n",
        "plt.show()"
      ],
      "metadata": {
        "colab": {
          "base_uri": "https://localhost:8080/",
          "height": 449
        },
        "id": "g-lHJP1ClHjX",
        "outputId": "b13bba51-9e6b-4a39-d4cf-159bd25e532e"
      },
      "execution_count": null,
      "outputs": [
        {
          "output_type": "display_data",
          "data": {
            "text/plain": [
              "<Figure size 640x480 with 1 Axes>"
            ],
            "image/png": "[encoded data removed]"
          },
          "metadata": {}
        }
      ]
    }
  ]
}